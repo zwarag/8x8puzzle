{
 "cells": [
  {
   "cell_type": "code",
   "execution_count": null,
   "id": "9477946a",
   "metadata": {},
   "outputs": [],
   "source": [
    "# Jupyter Manhatten Distance Vectorized\n",
    "\n"
   ]
  },
  {
   "cell_type": "code",
   "execution_count": 1,
   "id": "92cafd1e",
   "metadata": {},
   "outputs": [],
   "source": [
    "import numpy as np"
   ]
  },
  {
   "cell_type": "code",
   "execution_count": 2,
   "id": "8df368cc",
   "metadata": {},
   "outputs": [
    {
     "data": {
      "text/plain": [
       "array([[7, 2, 4],\n",
       "       [5, 0, 6],\n",
       "       [8, 3, 1]])"
      ]
     },
     "execution_count": 2,
     "metadata": {},
     "output_type": "execute_result"
    }
   ],
   "source": [
    "initial_state = np.array([[7, 2, 4], [5, 0, 6], [8, 3, 1]])\n",
    "initial_state"
   ]
  },
  {
   "cell_type": "code",
   "execution_count": 3,
   "id": "4b3b9889",
   "metadata": {},
   "outputs": [
    {
     "data": {
      "text/plain": [
       "array([[0, 1, 2],\n",
       "       [3, 4, 5],\n",
       "       [6, 7, 8]])"
      ]
     },
     "execution_count": 3,
     "metadata": {},
     "output_type": "execute_result"
    }
   ],
   "source": [
    "goal_state = np.array([[0, 1, 2], [3, 4, 5], [6, 7, 8]])\n",
    "goal_state"
   ]
  },
  {
   "cell_type": "code",
   "execution_count": 4,
   "id": "8ccc65ee",
   "metadata": {},
   "outputs": [
    {
     "data": {
      "text/plain": [
       "3"
      ]
     },
     "execution_count": 4,
     "metadata": {},
     "output_type": "execute_result"
    }
   ],
   "source": [
    "n, m = initial_state.shape\n",
    "n"
   ]
  },
  {
   "cell_type": "markdown",
   "id": "37fc80bf",
   "metadata": {},
   "source": [
    "## Build the position matrix for initial_state"
   ]
  },
  {
   "cell_type": "code",
   "execution_count": 5,
   "id": "6e2dda8c",
   "metadata": {},
   "outputs": [
    {
     "data": {
      "text/plain": [
       "array([         0,          1,          0,         31,        952,\n",
       "                0,        768,        139, 1718404984])"
      ]
     },
     "execution_count": 5,
     "metadata": {},
     "output_type": "execute_result"
    }
   ],
   "source": [
    "initPos = np.empty(n*m, dtype=int)\n",
    "initPos # the values shown here are whatever was in memory"
   ]
  },
  {
   "cell_type": "code",
   "execution_count": 6,
   "id": "3bd08da4",
   "metadata": {},
   "outputs": [
    {
     "data": {
      "text/plain": [
       "array([4, 8, 1, 7, 2, 3, 5, 0, 6])"
      ]
     },
     "execution_count": 6,
     "metadata": {},
     "output_type": "execute_result"
    }
   ],
   "source": [
    "initPos[initial_state.reshape(n*m)] = np.arange(n*m, dtype=int)\n",
    "initPos"
   ]
  },
  {
   "cell_type": "markdown",
   "id": "d25d6c7c",
   "metadata": {},
   "source": [
    "## Build the position matrix for goal_state"
   ]
  },
  {
   "cell_type": "code",
   "execution_count": 7,
   "id": "e9555bbb",
   "metadata": {},
   "outputs": [
    {
     "data": {
      "text/plain": [
       "array([0, 1, 2, 3, 4, 5, 6, 7, 8])"
      ]
     },
     "execution_count": 7,
     "metadata": {},
     "output_type": "execute_result"
    }
   ],
   "source": [
    "goalPos = np.empty(n*m, dtype=int)\n",
    "goalPos"
   ]
  },
  {
   "cell_type": "code",
   "execution_count": 8,
   "id": "36d853dd",
   "metadata": {},
   "outputs": [
    {
     "data": {
      "text/plain": [
       "array([0, 1, 2, 3, 4, 5, 6, 7, 8])"
      ]
     },
     "execution_count": 8,
     "metadata": {},
     "output_type": "execute_result"
    }
   ],
   "source": [
    "goalPos[goal_state.reshape(n*m)] = np.arange(n*m, dtype=int)\n",
    "goalPos"
   ]
  },
  {
   "cell_type": "markdown",
   "id": "a3dac8d5",
   "metadata": {},
   "source": [
    "\n",
    "## Compute the Manhattan distance between the 2 position matrix"
   ]
  },
  {
   "cell_type": "code",
   "execution_count": 9,
   "id": "ee16fe5a",
   "metadata": {},
   "outputs": [],
   "source": [
    "xInitPos, yInitPos = initPos%m, initPos//m\n",
    "xGoalPos, yGoalPos = goalPos%m, goalPos//m"
   ]
  },
  {
   "cell_type": "code",
   "execution_count": 10,
   "id": "2aa94267",
   "metadata": {},
   "outputs": [
    {
     "data": {
      "text/plain": [
       "array([1, 2, 1, 1, 2, 0, 2, 0, 0], dtype=int32)"
      ]
     },
     "execution_count": 10,
     "metadata": {},
     "output_type": "execute_result"
    }
   ],
   "source": [
    "xInitPos"
   ]
  },
  {
   "cell_type": "code",
   "execution_count": 11,
   "id": "fec1e53e",
   "metadata": {},
   "outputs": [
    {
     "data": {
      "text/plain": [
       "array([1, 2, 0, 2, 0, 1, 1, 0, 2], dtype=int32)"
      ]
     },
     "execution_count": 11,
     "metadata": {},
     "output_type": "execute_result"
    }
   ],
   "source": [
    "yInitPos"
   ]
  },
  {
   "cell_type": "code",
   "execution_count": 12,
   "id": "34836fb2",
   "metadata": {},
   "outputs": [
    {
     "data": {
      "text/plain": [
       "array([0, 1, 2, 0, 1, 2, 0, 1, 2], dtype=int32)"
      ]
     },
     "execution_count": 12,
     "metadata": {},
     "output_type": "execute_result"
    }
   ],
   "source": [
    "xGoalPos"
   ]
  },
  {
   "cell_type": "code",
   "execution_count": 13,
   "id": "0a2f8d34",
   "metadata": {},
   "outputs": [
    {
     "data": {
      "text/plain": [
       "array([0, 0, 0, 1, 1, 1, 2, 2, 2], dtype=int32)"
      ]
     },
     "execution_count": 13,
     "metadata": {},
     "output_type": "execute_result"
    }
   ],
   "source": [
    "yGoalPos"
   ]
  },
  {
   "cell_type": "code",
   "execution_count": 14,
   "id": "40fcaa06",
   "metadata": {},
   "outputs": [
    {
     "data": {
      "text/plain": [
       "array([2, 3, 1, 2, 2, 2, 3, 3, 2], dtype=int32)"
      ]
     },
     "execution_count": 14,
     "metadata": {},
     "output_type": "execute_result"
    }
   ],
   "source": [
    "distance = np.abs(xInitPos-xGoalPos) + np.abs(yInitPos-yGoalPos)\n",
    "distance"
   ]
  },
  {
   "cell_type": "code",
   "execution_count": 15,
   "id": "f491f49e",
   "metadata": {
    "scrolled": true
   },
   "outputs": [
    {
     "data": {
      "text/plain": [
       "array([[3, 1, 2],\n",
       "       [2, 2, 3],\n",
       "       [2, 2, 3]], dtype=int32)"
      ]
     },
     "execution_count": 15,
     "metadata": {},
     "output_type": "execute_result"
    }
   ],
   "source": [
    "solution = distance[initial_state.reshape(n*m)].reshape((n,m))\n",
    "solution"
   ]
  }
 ],
 "metadata": {
  "kernelspec": {
   "display_name": "Python 3",
   "language": "python",
   "name": "python3"
  },
  "language_info": {
   "codemirror_mode": {
    "name": "ipython",
    "version": 3
   },
   "file_extension": ".py",
   "mimetype": "text/x-python",
   "name": "python",
   "nbconvert_exporter": "python",
   "pygments_lexer": "ipython3",
   "version": "3.9.2"
  }
 },
 "nbformat": 4,
 "nbformat_minor": 5
}
